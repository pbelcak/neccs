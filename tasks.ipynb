{
 "cells": [
  {
   "cell_type": "code",
   "execution_count": 2,
   "metadata": {},
   "outputs": [],
   "source": [
    "import torch\n",
    "import data_makers\n",
    "import pickle\n",
    "import os"
   ]
  },
  {
   "cell_type": "code",
   "execution_count": 3,
   "metadata": {},
   "outputs": [],
   "source": [
    "def pickle_data(data, output_path, name):\n",
    "\twith open(os.path.join(output_path, name + \".pickle\"), 'wb') as file:\n",
    "\t\tpickle.dump(data, file)"
   ]
  },
  {
   "cell_type": "code",
   "execution_count": 4,
   "metadata": {},
   "outputs": [],
   "source": [
    "def subselect_data(data, completeness: int):\n",
    "\tx, y = data\n",
    "\n",
    "\tactual_completeness = int(x.shape[0] * completeness / 100)\n",
    "\n",
    "\tperm = torch.randperm(x.shape[0])\n",
    "\tx = x[perm][:actual_completeness]\n",
    "\ty = y[perm][:actual_completeness]\n",
    "\n",
    "\treturn x, y"
   ]
  },
  {
   "cell_type": "code",
   "execution_count": 5,
   "metadata": {},
   "outputs": [],
   "source": [
    "def make_data(width: int, completeness: int):\n",
    "\toutput_path = './data/EC-' + str(width) + '-' + str(completeness)\n",
    "\tos.makedirs(output_path, exist_ok=True)\n",
    "\twidth_suffix: str = \"_\" + str(width)\n",
    "\n",
    "\t# Bitwise Operations\n",
    "\tnot_4 = subselect_data(data_makers.make_data_bitwise_not(width), completeness)\n",
    "\tpickle_data(not_4, output_path, 'not'+width_suffix)\n",
    "\n",
    "\tand_4 = subselect_data(data_makers.make_data_and(width), completeness)\n",
    "\tpickle_data(and_4, output_path, 'and'+width_suffix)\n",
    "\n",
    "\tor_4 = subselect_data(data_makers.make_data_or(width), completeness)\n",
    "\tpickle_data(or_4, output_path, 'or'+width_suffix)\n",
    "\n",
    "\txor_4 = subselect_data(data_makers.make_data_xor(width), completeness)\n",
    "\tpickle_data(xor_4, output_path, 'xor'+width_suffix)\n",
    "\n",
    "\tshr_4 = subselect_data(data_makers.make_data_shr(width), completeness)\n",
    "\tpickle_data(shr_4, output_path, 'shr'+width_suffix)\n",
    "\n",
    "\tshl_4 = subselect_data(data_makers.make_data_shl(width), completeness)\n",
    "\tpickle_data(shl_4, output_path, 'shl'+width_suffix)\n",
    "\n",
    "\t# Arithmetic Operations\n",
    "\tneg_4 = subselect_data(data_makers.make_data_negation(width), completeness)\n",
    "\tpickle_data(neg_4, output_path, 'neg'+width_suffix)\n",
    "\n",
    "\tadd_4 = subselect_data(data_makers.make_data_addition(width), completeness)\n",
    "\tpickle_data(add_4, output_path, 'add'+width_suffix)\n",
    "\n",
    "\tsub_4 = subselect_data(data_makers.make_data_subtraction(width), completeness)\n",
    "\tpickle_data(sub_4, output_path, 'sub'+width_suffix)\n",
    "\n",
    "\tmul_4 = subselect_data(data_makers.make_data_multiplication(width), completeness)\n",
    "\tpickle_data(mul_4, output_path, 'mul'+width_suffix)\n",
    "\n",
    "\tdiv_4_4 = subselect_data(data_makers.make_data_division(width, width), completeness)\n",
    "\tpickle_data(div_4_4, output_path, 'div'+width_suffix)\n",
    "\n",
    "\tmod_4_4 = subselect_data(data_makers.make_data_modulo(width, width), completeness)\n",
    "\tpickle_data(mod_4_4, output_path, 'mod'+width_suffix)\n",
    "\n",
    "\t# Control Circuits\n",
    "\tmux_4_1 = subselect_data(data_makers.make_data_multiplexer(width), completeness)\n",
    "\tpickle_data(mux_4_1, output_path, 'mux'+width_suffix)\n",
    "\n",
    "\tdemux_1_4 = subselect_data(data_makers.make_data_demultiplexer(width), completeness)\n",
    "\tpickle_data(demux_1_4, output_path, 'demux'+width_suffix)\n",
    "\n",
    "\tdecoder_2_4 = subselect_data(data_makers.make_data_decoder(width), completeness)\n",
    "\tpickle_data(decoder_2_4, output_path, 'decoder'+width_suffix)\n",
    "\n",
    "\tpriority_encoder_4_2 = subselect_data(data_makers.make_data_priority_encoder(width), completeness)\n",
    "\tpickle_data(priority_encoder_4_2, output_path, 'priority_encoder'+width_suffix)"
   ]
  },
  {
   "cell_type": "code",
   "execution_count": 6,
   "metadata": {},
   "outputs": [],
   "source": [
    "make_data(4, 100)\n",
    "make_data(2, 100)"
   ]
  },
  {
   "cell_type": "code",
   "execution_count": 7,
   "metadata": {},
   "outputs": [],
   "source": [
    "make_data(3, 100)"
   ]
  },
  {
   "cell_type": "code",
   "execution_count": 8,
   "metadata": {},
   "outputs": [],
   "source": [
    "make_data(5, 100)"
   ]
  },
  {
   "cell_type": "code",
   "execution_count": null,
   "metadata": {},
   "outputs": [],
   "source": []
  }
 ],
 "metadata": {
  "kernelspec": {
   "display_name": "Python 3.9.7 ('py39torch')",
   "language": "python",
   "name": "python3"
  },
  "language_info": {
   "codemirror_mode": {
    "name": "ipython",
    "version": 3
   },
   "file_extension": ".py",
   "mimetype": "text/x-python",
   "name": "python",
   "nbconvert_exporter": "python",
   "pygments_lexer": "ipython3",
   "version": "3.9.7"
  },
  "orig_nbformat": 4,
  "vscode": {
   "interpreter": {
    "hash": "ee2347e99b5fc766421d65e1b195366168b0cbec4e3e49c395b081a461456477"
   }
  }
 },
 "nbformat": 4,
 "nbformat_minor": 2
}
